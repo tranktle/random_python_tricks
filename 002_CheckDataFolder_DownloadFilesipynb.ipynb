{
 "cells": [
  {
   "cell_type": "markdown",
   "metadata": {},
   "source": [
    "This markdown file is for checking if a Data_folder already contain data that you want or not, if not, download the data based on your given url and put in the Data_folder"
   ]
  },
  {
   "cell_type": "markdown",
   "metadata": {},
   "source": [
    "First, we want to check if the Data_folder contains/does not contain the data you want"
   ]
  }
 ],
 "metadata": {
  "kernelspec": {
   "display_name": "Python 3.9.12 ('pytorch')",
   "language": "python",
   "name": "python3"
  },
  "language_info": {
   "name": "python",
   "version": "3.9.12"
  },
  "orig_nbformat": 4,
  "vscode": {
   "interpreter": {
    "hash": "1a31d49ef82b65dcda19c5ad9b4a3838eae29e34a7ddc1c731139114b7ab7ba9"
   }
  }
 },
 "nbformat": 4,
 "nbformat_minor": 2
}
