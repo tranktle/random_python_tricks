{
 "cells": [
  {
   "cell_type": "markdown",
   "metadata": {},
   "source": [
    "# Ignite cheat sheet: Engine, Event, Handler, and State"
   ]
  },
  {
   "cell_type": "markdown",
   "metadata": {},
   "source": [
    "This cheat sheet is created from the content of [Introduction to PyTorch-Ignite](https://pytorch-ignite.ai/blog/introduction/)"
   ]
  },
  {
   "cell_type": "markdown",
   "metadata": {},
   "source": [
    "## Common PyTorch code\n",
    "First, we define our model, training and validation datasets, optimizer and loss function as normal `Pytorch` program."
   ]
  },
  {
   "cell_type": "code",
   "execution_count": null,
   "metadata": {},
   "outputs": [],
   "source": [
    "# transform to normalize the data\n",
    "transform = Compose([ToTensor(), Normalize((0.1307,), (0.3081,))])\n",
    "\n",
    "# Download and load the training data\n",
    "trainset = MNIST(\"data\", download=True, train=True, transform=transform)\n",
    "train_loader = DataLoader(trainset, batch_size=128, shuffle=True)\n",
    "# Download and load the test data\n",
    "validationset = MNIST(\"data\", train=False, transform=transform)\n",
    "val_loader = DataLoader(validationset, batch_size=256, shuffle=False)\n",
    "\n",
    "# Define a class of CNN model (as you want)\n",
    "class Net(nn.Module):\n",
    "    def __init__(self):\n",
    "        super(Net, self).__init__()\n",
    "        ...Define cnn layers\n",
    "    def forward(self, x):\n",
    "        ... Do the forward step\n",
    "\n",
    "device = \"cuda\"\n",
    "\n",
    "# Define a model on move it on CUDA device\n",
    "model = Net().to(device)\n",
    "\n",
    "# Define a loss\n",
    "criterion = nn.NLLLoss()\n",
    "\n",
    "# Define an optimizer\n",
    "optimizer = SGD(model.parameters(), lr=0.01, momentum=0.8)"
   ]
  },
  {
   "cell_type": "markdown",
   "metadata": {},
   "source": [
    "---"
   ]
  },
  {
   "cell_type": "markdown",
   "metadata": {},
   "source": [
    "## Engine\n",
    "The [Engine](https://pytorch.org/ignite/engine.html) is responsible for running an arbitrary function - typically a training or evaluation function - and emitting events along the way."
   ]
  },
  {
   "cell_type": "code",
   "execution_count": null,
   "metadata": {},
   "outputs": [],
   "source": [
    "while epoch < max_epochs:\n",
    "    # run an epoch on data\n",
    "    data_iter = iter(data)\n",
    "    while True:\n",
    "        try:\n",
    "            batch = next(data_iter)\n",
    "            output = process_function(batch)\n",
    "            iter_counter += 1\n",
    "        except StopIteration:\n",
    "            data_iter = iter(data)\n",
    "\n",
    "        if iter_counter == epoch_length:\n",
    "            break"
   ]
  },
  {
   "cell_type": "markdown",
   "metadata": {},
   "source": [
    "For example"
   ]
  },
  {
   "cell_type": "code",
   "execution_count": null,
   "metadata": {},
   "outputs": [],
   "source": [
    "from ignite.engine import Engine\n",
    "\n",
    "def train_step(engine, batch):  # train_step function must accept engine and batch arguments. \n",
    "    x, y = batch, x = x.to(device), y = y.to(device)\n",
    "    model.train(), y_pred = model(x), loss = criterion(y_pred, y)\n",
    "    optimizer.zero_grad(), loss.backward(), optimizer.step()\n",
    "    return loss\n",
    "\n",
    "# Define a trainer engine\n",
    "trainer = Engine(train_step)"
   ]
  },
  {
   "cell_type": "code",
   "execution_count": null,
   "metadata": {},
   "outputs": [],
   "source": [
    "def validation_step(engine, batch):\n",
    "    model.eval()\n",
    "    with torch.no_grad():\n",
    "        x, y = batch[0], batch[1], x = x.to(\"cuda\"), y = y.to(\"cuda\")\n",
    "        y_pred = model(x)\n",
    "        return y_pred, y\n",
    "evaluator = Engine(validation_step)"
   ]
  },
  {
   "cell_type": "markdown",
   "metadata": {},
   "source": [
    "- Similarly, model evaluation, `evaluator` can be done with an engine that runs a single time over the validation dataset and computes metrics\n",
    "- `trainer` and `evaluator` and any other functions can be considered `process functions`, that can return `loss`, `y`, `y_pred`, or anything that you want. "
   ]
  },
  {
   "cell_type": "markdown",
   "metadata": {},
   "source": [
    "---"
   ]
  },
  {
   "cell_type": "markdown",
   "metadata": {},
   "source": [
    "## Events and Handers"
   ]
  },
  {
   "cell_type": "markdown",
   "metadata": {},
   "source": [
    "- [Event](https://pytorch.org/ignite/generated/ignite.engine.events.Events.html#ignite.engine.events.Events) system is introduced to facilitate the interaction on each step of the run. \n",
    "- **`Engine` allows to add `handlers` on various `Events` that are triggered during the run**. \n",
    "- When an event is triggered, attached `handlers` (named functions, lambdas, class method, or any other functions) are executed. "
   ]
  },
  {
   "cell_type": "code",
   "execution_count": null,
   "metadata": {},
   "outputs": [],
   "source": [
    "# Schema for when built-in events are triggered by default:\n",
    "fire_event(Events.STARTED)\n",
    "while epoch < max_epochs:\n",
    "    fire_event(Events.EPOCH_STARTED)\n",
    "    # run once on data\n",
    "    for batch in data:\n",
    "        fire_event(Events.ITERATION_STARTED)\n",
    "        output = process_function(batch)  #Note: trainer and evaluator are process functions\n",
    "        fire_event(Events.ITERATION_COMPLETED)\n",
    "    fire_event(Events.EPOCH_COMPLETED)\n",
    "fire_event(Events.COMPLETED)"
   ]
  },
  {
   "cell_type": "markdown",
   "metadata": {},
   "source": [
    "- **Each engine (i.e. `trainer` and `evaluator`, or other engine you define) has its own event system which allows to define its own engine’s process logic**.\n",
    "\n",
    "```python\n",
    "engine_name.add_event_handler(Events.eventname, function_name)\n",
    "```"
   ]
  },
  {
   "cell_type": "code",
   "execution_count": null,
   "metadata": {},
   "outputs": [],
   "source": [
    "#Using Events and handlers, it is possible to completely customize the engine’s runs in a very intuitive way:\n",
    "\n",
    "# Show a message when the training begins\n",
    "@trainer.on(Events.STARTED)\n",
    "def start_message():\n",
    "    print(\"Start training!\")\n",
    "\n",
    "# Handler can be what you want, named functions, lambdas, class method, or any other functions, here a lambda !\n",
    "trainer.add_event_handler(\n",
    "    Events.COMPLETED,\n",
    "    lambda _: print(\"Training completed!\")\n",
    ")\n",
    "\n",
    "# Run evaluator on val_loader every trainer's epoch completed\n",
    "# the run_validation function is attached to the trainer and will be triggered at each completed epoch \n",
    "# to launch model’s validation with evaluator. \n",
    "@trainer.on(Events.EPOCH_COMPLETED)\n",
    "def run_validation():\n",
    "    evaluator.run(val_loader)"
   ]
  },
  {
   "cell_type": "markdown",
   "metadata": {},
   "source": [
    "Click to know about decorator [trainer.on](https://pytorch.org/ignite/generated/ignite.engine.engine.Engine.html#ignite.engine.engine.Engine.on) and [trainer.add_event_handler](https://pytorch.org/ignite/generated/ignite.engine.engine.Engine.html#ignite.engine.engine.Engine.add_event_handler)"
   ]
  },
  {
   "cell_type": "markdown",
   "metadata": {},
   "source": [
    "## More on Engine and Events"
   ]
  },
  {
   "cell_type": "code",
   "execution_count": 16,
   "metadata": {},
   "outputs": [
    {
     "ename": "ValueError",
     "evalue": "Error adding <function call_on_special_event at 0x000001B212A14670> 'handler': takes parameters ['engine', 'i'] but will be called with [](missing a required argument: 'engine').",
     "output_type": "error",
     "traceback": [
      "\u001b[1;31m---------------------------------------------------------------------------\u001b[0m",
      "\u001b[1;31mTypeError\u001b[0m                                 Traceback (most recent call last)",
      "File \u001b[1;32mc:\\Users\\tranl\\miniconda3\\envs\\pytorch\\lib\\site-packages\\ignite\\engine\\utils.py:12\u001b[0m, in \u001b[0;36m_check_signature\u001b[1;34m(fn, fn_description, *args, **kwargs)\u001b[0m\n\u001b[0;32m     11\u001b[0m \u001b[39mtry\u001b[39;00m:  \u001b[39m# try without engine\u001b[39;00m\n\u001b[1;32m---> 12\u001b[0m     signature\u001b[39m.\u001b[39mbind(\u001b[39m*\u001b[39margs, \u001b[39m*\u001b[39m\u001b[39m*\u001b[39mkwargs)\n\u001b[0;32m     13\u001b[0m \u001b[39mexcept\u001b[39;00m \u001b[39mTypeError\u001b[39;00m \u001b[39mas\u001b[39;00m exc:\n",
      "File \u001b[1;32mc:\\Users\\tranl\\miniconda3\\envs\\pytorch\\lib\\inspect.py:3045\u001b[0m, in \u001b[0;36mSignature.bind\u001b[1;34m(self, *args, **kwargs)\u001b[0m\n\u001b[0;32m   3041\u001b[0m \u001b[39m\"\"\"Get a BoundArguments object, that maps the passed `args`\u001b[39;00m\n\u001b[0;32m   3042\u001b[0m \u001b[39mand `kwargs` to the function's signature.  Raises `TypeError`\u001b[39;00m\n\u001b[0;32m   3043\u001b[0m \u001b[39mif the passed arguments can not be bound.\u001b[39;00m\n\u001b[0;32m   3044\u001b[0m \u001b[39m\"\"\"\u001b[39;00m\n\u001b[1;32m-> 3045\u001b[0m \u001b[39mreturn\u001b[39;00m \u001b[39mself\u001b[39;49m\u001b[39m.\u001b[39;49m_bind(args, kwargs)\n",
      "File \u001b[1;32mc:\\Users\\tranl\\miniconda3\\envs\\pytorch\\lib\\inspect.py:2960\u001b[0m, in \u001b[0;36mSignature._bind\u001b[1;34m(self, args, kwargs, partial)\u001b[0m\n\u001b[0;32m   2959\u001b[0m                 msg \u001b[39m=\u001b[39m msg\u001b[39m.\u001b[39mformat(arg\u001b[39m=\u001b[39mparam\u001b[39m.\u001b[39mname)\n\u001b[1;32m-> 2960\u001b[0m                 \u001b[39mraise\u001b[39;00m \u001b[39mTypeError\u001b[39;00m(msg) \u001b[39mfrom\u001b[39;00m \u001b[39mNone\u001b[39m\n\u001b[0;32m   2961\u001b[0m \u001b[39melse\u001b[39;00m:\n\u001b[0;32m   2962\u001b[0m     \u001b[39m# We have a positional argument to process\u001b[39;00m\n",
      "\u001b[1;31mTypeError\u001b[0m: missing a required argument: 'engine'",
      "\nDuring handling of the above exception, another exception occurred:\n",
      "\u001b[1;31mValueError\u001b[0m                                Traceback (most recent call last)",
      "\u001b[1;32md:\\random_python_tricks\\004_Ignite_CheatSheet.ipynb Cell 16\u001b[0m in \u001b[0;36m<cell line: 12>\u001b[1;34m()\u001b[0m\n\u001b[0;32m     <a href='vscode-notebook-cell:/d%3A/random_python_tricks/004_Ignite_CheatSheet.ipynb#X21sZmlsZQ%3D%3D?line=9'>10</a>\u001b[0m engine \u001b[39m=\u001b[39m Engine(custom_event_filter)\n\u001b[0;32m     <a href='vscode-notebook-cell:/d%3A/random_python_tricks/004_Ignite_CheatSheet.ipynb#X21sZmlsZQ%3D%3D?line=10'>11</a>\u001b[0m i\u001b[39m=\u001b[39m\u001b[39m0\u001b[39m\n\u001b[0;32m     <a href='vscode-notebook-cell:/d%3A/random_python_tricks/004_Ignite_CheatSheet.ipynb#X21sZmlsZQ%3D%3D?line=11'>12</a>\u001b[0m \u001b[39m@engine\u001b[39;49m\u001b[39m.\u001b[39;49mon(Events\u001b[39m.\u001b[39;49mITERATION_STARTED(event_filter\u001b[39m=\u001b[39;49mcustom_event_filter))\n\u001b[1;32m---> <a href='vscode-notebook-cell:/d%3A/random_python_tricks/004_Ignite_CheatSheet.ipynb#X21sZmlsZQ%3D%3D?line=12'>13</a>\u001b[0m \u001b[39mdef\u001b[39;49;00m \u001b[39mcall_on_special_event\u001b[39;49m(engine, i):\n\u001b[0;32m     <a href='vscode-notebook-cell:/d%3A/random_python_tricks/004_Ignite_CheatSheet.ipynb#X21sZmlsZQ%3D%3D?line=13'>14</a>\u001b[0m     i\u001b[39m=\u001b[39;49mi\u001b[39m+\u001b[39;49m\u001b[39m1\u001b[39;49m\n\u001b[0;32m     <a href='vscode-notebook-cell:/d%3A/random_python_tricks/004_Ignite_CheatSheet.ipynb#X21sZmlsZQ%3D%3D?line=14'>15</a>\u001b[0m     \u001b[39mprint\u001b[39;49m(\u001b[39m\"\u001b[39;49m\u001b[39myes, it is\u001b[39;49m\u001b[39m\"\u001b[39;49m) \n",
      "File \u001b[1;32mc:\\Users\\tranl\\miniconda3\\envs\\pytorch\\lib\\site-packages\\ignite\\engine\\engine.py:398\u001b[0m, in \u001b[0;36mEngine.on.<locals>.decorator\u001b[1;34m(f)\u001b[0m\n\u001b[0;32m    397\u001b[0m \u001b[39mdef\u001b[39;00m \u001b[39mdecorator\u001b[39m(f: Callable) \u001b[39m-\u001b[39m\u001b[39m>\u001b[39m Callable:\n\u001b[1;32m--> 398\u001b[0m     \u001b[39mself\u001b[39m\u001b[39m.\u001b[39madd_event_handler(event_name, f, \u001b[39m*\u001b[39margs, \u001b[39m*\u001b[39m\u001b[39m*\u001b[39mkwargs)\n\u001b[0;32m    399\u001b[0m     \u001b[39mreturn\u001b[39;00m f\n",
      "File \u001b[1;32mc:\\Users\\tranl\\miniconda3\\envs\\pytorch\\lib\\site-packages\\ignite\\engine\\engine.py:310\u001b[0m, in \u001b[0;36mEngine.add_event_handler\u001b[1;34m(self, event_name, handler, *args, **kwargs)\u001b[0m\n\u001b[0;32m    308\u001b[0m     \u001b[39mself\u001b[39m\u001b[39m.\u001b[39m_event_handlers[event_name]\u001b[39m.\u001b[39mappend((handler, (\u001b[39mself\u001b[39m,) \u001b[39m+\u001b[39m args, kwargs))\n\u001b[0;32m    309\u001b[0m \u001b[39mexcept\u001b[39;00m \u001b[39mValueError\u001b[39;00m:\n\u001b[1;32m--> 310\u001b[0m     _check_signature(handler, \u001b[39m\"\u001b[39m\u001b[39mhandler\u001b[39m\u001b[39m\"\u001b[39m, \u001b[39m*\u001b[39m(event_args \u001b[39m+\u001b[39m args), \u001b[39m*\u001b[39m\u001b[39m*\u001b[39mkwargs)\n\u001b[0;32m    311\u001b[0m     \u001b[39mself\u001b[39m\u001b[39m.\u001b[39m_event_handlers[event_name]\u001b[39m.\u001b[39mappend((handler, args, kwargs))\n\u001b[0;32m    312\u001b[0m \u001b[39mself\u001b[39m\u001b[39m.\u001b[39mlogger\u001b[39m.\u001b[39mdebug(\u001b[39mf\u001b[39m\u001b[39m\"\u001b[39m\u001b[39madded handler for event \u001b[39m\u001b[39m{\u001b[39;00mevent_name\u001b[39m}\u001b[39;00m\u001b[39m\"\u001b[39m)\n",
      "File \u001b[1;32mc:\\Users\\tranl\\miniconda3\\envs\\pytorch\\lib\\site-packages\\ignite\\engine\\utils.py:17\u001b[0m, in \u001b[0;36m_check_signature\u001b[1;34m(fn, fn_description, *args, **kwargs)\u001b[0m\n\u001b[0;32m     15\u001b[0m exception_msg \u001b[39m=\u001b[39m \u001b[39mstr\u001b[39m(exc)\n\u001b[0;32m     16\u001b[0m passed_params \u001b[39m=\u001b[39m \u001b[39mlist\u001b[39m(args) \u001b[39m+\u001b[39m \u001b[39mlist\u001b[39m(kwargs)\n\u001b[1;32m---> 17\u001b[0m \u001b[39mraise\u001b[39;00m \u001b[39mValueError\u001b[39;00m(\n\u001b[0;32m     18\u001b[0m     \u001b[39mf\u001b[39m\u001b[39m\"\u001b[39m\u001b[39mError adding \u001b[39m\u001b[39m{\u001b[39;00mfn\u001b[39m}\u001b[39;00m\u001b[39m \u001b[39m\u001b[39m'\u001b[39m\u001b[39m{\u001b[39;00mfn_description\u001b[39m}\u001b[39;00m\u001b[39m'\u001b[39m\u001b[39m: \u001b[39m\u001b[39m\"\u001b[39m\n\u001b[0;32m     19\u001b[0m     \u001b[39mf\u001b[39m\u001b[39m\"\u001b[39m\u001b[39mtakes parameters \u001b[39m\u001b[39m{\u001b[39;00mfn_params\u001b[39m}\u001b[39;00m\u001b[39m but will be called with \u001b[39m\u001b[39m{\u001b[39;00mpassed_params\u001b[39m}\u001b[39;00m\u001b[39m\"\u001b[39m\n\u001b[0;32m     20\u001b[0m     \u001b[39mf\u001b[39m\u001b[39m\"\u001b[39m\u001b[39m(\u001b[39m\u001b[39m{\u001b[39;00mexception_msg\u001b[39m}\u001b[39;00m\u001b[39m).\u001b[39m\u001b[39m\"\u001b[39m\n\u001b[0;32m     21\u001b[0m )\n",
      "\u001b[1;31mValueError\u001b[0m: Error adding <function call_on_special_event at 0x000001B212A14670> 'handler': takes parameters ['engine', 'i'] but will be called with [](missing a required argument: 'engine')."
     ]
    }
   ],
   "source": [
    "from ignite.engine.engine import Engine\n",
    "from ignite.engine import Events \n",
    "\n",
    "# a custom event filter\n",
    "def custom_event_filter(engine, event):\n",
    "    if event in [1, 2, 5, 10, 50, 100]:\n",
    "        return True\n",
    "    return False\n",
    "\n",
    "engine = Engine(custom_event_filter)\n",
    "i=0\n",
    "@engine.on(Events.ITERATION_STARTED(event_filter=custom_event_filter))\n",
    "def call_on_special_event(engine, i):\n",
    "    i=i+1\n",
    "    print(\"yes, it is\") \n",
    "    return(i)\n",
    "call_on_special_event(engine)"
   ]
  },
  {
   "cell_type": "code",
   "execution_count": 14,
   "metadata": {},
   "outputs": [
    {
     "name": "stdout",
     "output_type": "stream",
     "text": [
      "do something every 10th iteration\n"
     ]
    }
   ],
   "source": [
    "# b \"every\" event filter\n",
    "@engine.on(Events.ITERATION_STARTED(every=10))\n",
    "def call_every(engine):\n",
    "    print(\"do something every 10th iteration\")\n",
    "call_every(engine)\n",
    "# # c \"once\" event filter\n",
    "# @engine.on(Events.ITERATION_STARTED(once=50))\n",
    "# def call_once(engine):\n",
    "#     print(\"once=50it uis\")"
   ]
  },
  {
   "cell_type": "markdown",
   "metadata": {},
   "source": [
    "---"
   ]
  },
  {
   "cell_type": "markdown",
   "metadata": {},
   "source": [
    "## State"
   ]
  },
  {
   "cell_type": "markdown",
   "metadata": {},
   "source": [
    "## Reference\n",
    "- [https://pytorch-ignite.ai/tutorials/beginner/01-getting-started/](https://pytorch-ignite.ai/tutorials/beginner/01-getting-started/) \n",
    "- [https://pytorch-ignite.ai/blog/introduction/](https://pytorch-ignite.ai/blog/introduction/)"
   ]
  }
 ],
 "metadata": {
  "kernelspec": {
   "display_name": "Python 3.9.12 ('pytorch')",
   "language": "python",
   "name": "python3"
  },
  "language_info": {
   "codemirror_mode": {
    "name": "ipython",
    "version": 3
   },
   "file_extension": ".py",
   "mimetype": "text/x-python",
   "name": "python",
   "nbconvert_exporter": "python",
   "pygments_lexer": "ipython3",
   "version": "3.9.12"
  },
  "orig_nbformat": 4,
  "vscode": {
   "interpreter": {
    "hash": "1a31d49ef82b65dcda19c5ad9b4a3838eae29e34a7ddc1c731139114b7ab7ba9"
   }
  }
 },
 "nbformat": 4,
 "nbformat_minor": 2
}
