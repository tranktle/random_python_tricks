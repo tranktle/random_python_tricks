{
 "cells": [
  {
   "cell_type": "markdown",
   "metadata": {},
   "source": [
    "# Ignite cheat sheet: Engine, Event, and Hander"
   ]
  },
  {
   "cell_type": "markdown",
   "metadata": {},
   "source": [
    "This cheat sheet is created from the content of [Introduction to PyTorch-Ignite](https://pytorch-ignite.ai/blog/introduction/)"
   ]
  },
  {
   "cell_type": "markdown",
   "metadata": {},
   "source": [
    "## Common PyTorch code\n",
    "First, we define our model, training and validation datasets, optimizer and loss function as normal `Pytorch` program."
   ]
  },
  {
   "cell_type": "code",
   "execution_count": null,
   "metadata": {},
   "outputs": [],
   "source": [
    "# transform to normalize the data\n",
    "transform = Compose([ToTensor(), Normalize((0.1307,), (0.3081,))])\n",
    "\n",
    "# Download and load the training data\n",
    "trainset = MNIST(\"data\", download=True, train=True, transform=transform)\n",
    "train_loader = DataLoader(trainset, batch_size=128, shuffle=True)\n",
    "# Download and load the test data\n",
    "validationset = MNIST(\"data\", train=False, transform=transform)\n",
    "val_loader = DataLoader(validationset, batch_size=256, shuffle=False)\n",
    "\n",
    "# Define a class of CNN model (as you want)\n",
    "class Net(nn.Module):\n",
    "    def __init__(self):\n",
    "        super(Net, self).__init__()\n",
    "        ...Define cnn layers\n",
    "    def forward(self, x):\n",
    "        ... Do the forward step\n",
    "\n",
    "device = \"cuda\"\n",
    "\n",
    "# Define a model on move it on CUDA device\n",
    "model = Net().to(device)\n",
    "\n",
    "# Define a loss\n",
    "criterion = nn.NLLLoss()\n",
    "\n",
    "# Define an optimizer\n",
    "optimizer = SGD(model.parameters(), lr=0.01, momentum=0.8)"
   ]
  },
  {
   "cell_type": "markdown",
   "metadata": {},
   "source": [
    "## Engine\n",
    "The [Engine](https://pytorch.org/ignite/engine.html) is responsible for running an arbitrary function - typically a training or evaluation function - and emitting events along the way."
   ]
  },
  {
   "cell_type": "code",
   "execution_count": null,
   "metadata": {},
   "outputs": [],
   "source": [
    "from ignite.engine import Engine\n",
    "\n",
    "def train_step(engine, batch):  # train_step function must accept engine and batch arguments. \n",
    "    x, y = batch, x = x.to(device), y = y.to(device)\n",
    "    model.train(), y_pred = model(x), loss = criterion(y_pred, y)\n",
    "    optimizer.zero_grad(), loss.backward(), optimizer.step()\n",
    "    return loss\n",
    "\n",
    "# Define a trainer engine\n",
    "trainer = Engine(train_step)"
   ]
  },
  {
   "cell_type": "code",
   "execution_count": null,
   "metadata": {},
   "outputs": [],
   "source": [
    "def validation_step(engine, batch):\n",
    "    model.eval()\n",
    "    with torch.no_grad():\n",
    "        x, y = batch[0], batch[1], x = x.to(\"cuda\"), y = y.to(\"cuda\")\n",
    "        y_pred = model(x)\n",
    "        return y_pred, y\n",
    "evaluator = Engine(validation_step)"
   ]
  },
  {
   "cell_type": "markdown",
   "metadata": {},
   "source": [
    "- Similarly, model evaluation, `evaluator` can be done with an engine that runs a single time over the validation dataset and computes metrics\n",
    "- `trainer` and `evaluator` and any other functions can be considered `process functions`, that can return `loss`, `y`, `y_pred`, or anything that you want. "
   ]
  },
  {
   "cell_type": "markdown",
   "metadata": {},
   "source": [
    "## Events and Handers"
   ]
  },
  {
   "cell_type": "markdown",
   "metadata": {},
   "source": [
    "- Event system is introduced to facilitate the interaction on each step of the run. \n",
    "- **`Engine` allows to add `handlers` on various `Events` that are triggered during the run**. \n",
    "- When an event is triggered, attached `handlers` (named functions, lambdas, class method, or any other functions) are executed. "
   ]
  },
  {
   "cell_type": "code",
   "execution_count": null,
   "metadata": {},
   "outputs": [],
   "source": [
    "# Schema for when built-in events are triggered by default:\n",
    "fire_event(Events.STARTED)\n",
    "while epoch < max_epochs:\n",
    "    fire_event(Events.EPOCH_STARTED)\n",
    "    # run once on data\n",
    "    for batch in data:\n",
    "        fire_event(Events.ITERATION_STARTED)\n",
    "        output = process_function(batch)  #Note: trainer and evaluator are process functions\n",
    "        fire_event(Events.ITERATION_COMPLETED)\n",
    "    fire_event(Events.EPOCH_COMPLETED)\n",
    "fire_event(Events.COMPLETED)"
   ]
  },
  {
   "cell_type": "markdown",
   "metadata": {},
   "source": [
    "- **Each engine (i.e. `trainer` and `evaluator`, or other engine you define) has its own event system which allows to define its own engine’s process logic**.\n",
    "\n",
    "```python\n",
    "engine_name.add_event_handler(Events.eventname, function_name)\n",
    "```"
   ]
  },
  {
   "cell_type": "code",
   "execution_count": null,
   "metadata": {},
   "outputs": [],
   "source": [
    "#Using Events and handlers, it is possible to completely customize the engine’s runs in a very intuitive way:\n",
    "\n",
    "# Show a message when the training begins\n",
    "@trainer.on(Events.STARTED)\n",
    "def start_message():\n",
    "    print(\"Start training!\")\n",
    "\n",
    "# Handler can be what you want, named functions, lambdas, class method, or any other functions, here a lambda !\n",
    "trainer.add_event_handler(\n",
    "    Events.COMPLETED,\n",
    "    lambda _: print(\"Training completed!\")\n",
    ")\n",
    "\n",
    "# Run evaluator on val_loader every trainer's epoch completed\n",
    "# the run_validation function is attached to the trainer and will be triggered at each completed epoch \n",
    "# to launch model’s validation with evaluator. \n",
    "@trainer.on(Events.EPOCH_COMPLETED)\n",
    "def run_validation():\n",
    "    evaluator.run(val_loader)"
   ]
  },
  {
   "cell_type": "markdown",
   "metadata": {},
   "source": [
    "Click to know about decorator [trainer.on](https://pytorch.org/ignite/generated/ignite.engine.engine.Engine.html#ignite.engine.engine.Engine.on) and [trainer.add_event_handler](https://pytorch.org/ignite/generated/ignite.engine.engine.Engine.html#ignite.engine.engine.Engine.add_event_handler)"
   ]
  },
  {
   "cell_type": "markdown",
   "metadata": {},
   "source": [
    "## Reference\n",
    "- [https://pytorch-ignite.ai/tutorials/beginner/01-getting-started/](https://pytorch-ignite.ai/tutorials/beginner/01-getting-started/) \n",
    "- [https://pytorch-ignite.ai/blog/introduction/](https://pytorch-ignite.ai/blog/introduction/)"
   ]
  }
 ],
 "metadata": {
  "kernelspec": {
   "display_name": "Python 3.9.12 ('pytorch')",
   "language": "python",
   "name": "python3"
  },
  "language_info": {
   "codemirror_mode": {
    "name": "ipython",
    "version": 3
   },
   "file_extension": ".py",
   "mimetype": "text/x-python",
   "name": "python",
   "nbconvert_exporter": "python",
   "pygments_lexer": "ipython3",
   "version": "3.9.12"
  },
  "orig_nbformat": 4,
  "vscode": {
   "interpreter": {
    "hash": "1a31d49ef82b65dcda19c5ad9b4a3838eae29e34a7ddc1c731139114b7ab7ba9"
   }
  }
 },
 "nbformat": 4,
 "nbformat_minor": 2
}
