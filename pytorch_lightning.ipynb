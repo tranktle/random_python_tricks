{
 "cells": [
  {
   "cell_type": "code",
   "execution_count": 1,
   "metadata": {},
   "outputs": [
    {
     "name": "stdout",
     "output_type": "stream",
     "text": [
      "Collecting pytorch-lightning\n",
      "  Downloading pytorch_lightning-1.7.0-py3-none-any.whl (700 kB)\n",
      "Requirement already satisfied: PyYAML>=5.4 in c:\\users\\tranl\\miniconda3\\envs\\pytorch\\lib\\site-packages (from pytorch-lightning) (6.0)\n",
      "Requirement already satisfied: fsspec[http]!=2021.06.0,>=2021.05.0 in c:\\users\\tranl\\miniconda3\\envs\\pytorch\\lib\\site-packages (from pytorch-lightning) (2022.2.0)\n",
      "Requirement already satisfied: typing-extensions>=4.0.0 in c:\\users\\tranl\\miniconda3\\envs\\pytorch\\lib\\site-packages (from pytorch-lightning) (4.1.1)\n",
      "Requirement already satisfied: numpy>=1.17.2 in c:\\users\\tranl\\miniconda3\\envs\\pytorch\\lib\\site-packages (from pytorch-lightning) (1.21.5)\n",
      "Collecting torchmetrics>=0.7.0\n",
      "  Downloading torchmetrics-0.9.3-py3-none-any.whl (419 kB)\n",
      "Requirement already satisfied: packaging>=17.0 in c:\\users\\tranl\\miniconda3\\envs\\pytorch\\lib\\site-packages (from pytorch-lightning) (21.3)\n",
      "Requirement already satisfied: tqdm>=4.57.0 in c:\\users\\tranl\\miniconda3\\envs\\pytorch\\lib\\site-packages (from pytorch-lightning) (4.64.0)\n",
      "Requirement already satisfied: torch>=1.9.* in c:\\users\\tranl\\miniconda3\\envs\\pytorch\\lib\\site-packages (from pytorch-lightning) (1.11.0)\n",
      "Requirement already satisfied: tensorboard>=2.9.1 in c:\\users\\tranl\\miniconda3\\envs\\pytorch\\lib\\site-packages (from pytorch-lightning) (2.9.1)\n",
      "Collecting pyDeprecate>=0.3.1\n",
      "  Downloading pyDeprecate-0.3.2-py3-none-any.whl (10 kB)\n",
      "Requirement already satisfied: aiohttp in c:\\users\\tranl\\miniconda3\\envs\\pytorch\\lib\\site-packages (from fsspec[http]!=2021.06.0,>=2021.05.0->pytorch-lightning) (3.8.1)\n",
      "Requirement already satisfied: requests in c:\\users\\tranl\\miniconda3\\envs\\pytorch\\lib\\site-packages (from fsspec[http]!=2021.06.0,>=2021.05.0->pytorch-lightning) (2.27.1)\n",
      "Requirement already satisfied: pyparsing!=3.0.5,>=2.0.2 in c:\\users\\tranl\\miniconda3\\envs\\pytorch\\lib\\site-packages (from packaging>=17.0->pytorch-lightning) (3.0.4)\n",
      "Requirement already satisfied: markdown>=2.6.8 in c:\\users\\tranl\\miniconda3\\envs\\pytorch\\lib\\site-packages (from tensorboard>=2.9.1->pytorch-lightning) (3.3.4)\n",
      "Requirement already satisfied: tensorboard-data-server<0.7.0,>=0.6.0 in c:\\users\\tranl\\miniconda3\\envs\\pytorch\\lib\\site-packages (from tensorboard>=2.9.1->pytorch-lightning) (0.6.1)\n",
      "Requirement already satisfied: wheel>=0.26 in c:\\users\\tranl\\miniconda3\\envs\\pytorch\\lib\\site-packages (from tensorboard>=2.9.1->pytorch-lightning) (0.37.1)\n",
      "Requirement already satisfied: protobuf<3.20,>=3.9.2 in c:\\users\\tranl\\miniconda3\\envs\\pytorch\\lib\\site-packages (from tensorboard>=2.9.1->pytorch-lightning) (3.19.1)\n",
      "Requirement already satisfied: werkzeug>=1.0.1 in c:\\users\\tranl\\miniconda3\\envs\\pytorch\\lib\\site-packages (from tensorboard>=2.9.1->pytorch-lightning) (2.0.3)\n",
      "Requirement already satisfied: tensorboard-plugin-wit>=1.6.0 in c:\\users\\tranl\\miniconda3\\envs\\pytorch\\lib\\site-packages (from tensorboard>=2.9.1->pytorch-lightning) (1.8.1)\n",
      "Requirement already satisfied: absl-py>=0.4 in c:\\users\\tranl\\miniconda3\\envs\\pytorch\\lib\\site-packages (from tensorboard>=2.9.1->pytorch-lightning) (1.1.0)\n",
      "Requirement already satisfied: setuptools>=41.0.0 in c:\\users\\tranl\\miniconda3\\envs\\pytorch\\lib\\site-packages (from tensorboard>=2.9.1->pytorch-lightning) (61.2.0)\n",
      "Requirement already satisfied: google-auth-oauthlib<0.5,>=0.4.1 in c:\\users\\tranl\\miniconda3\\envs\\pytorch\\lib\\site-packages (from tensorboard>=2.9.1->pytorch-lightning) (0.4.6)\n",
      "Requirement already satisfied: google-auth<3,>=1.6.3 in c:\\users\\tranl\\miniconda3\\envs\\pytorch\\lib\\site-packages (from tensorboard>=2.9.1->pytorch-lightning) (1.33.0)\n",
      "Requirement already satisfied: grpcio>=1.24.3 in c:\\users\\tranl\\miniconda3\\envs\\pytorch\\lib\\site-packages (from tensorboard>=2.9.1->pytorch-lightning) (1.42.0)\n",
      "Requirement already satisfied: cachetools<5.0,>=2.0.0 in c:\\users\\tranl\\miniconda3\\envs\\pytorch\\lib\\site-packages (from google-auth<3,>=1.6.3->tensorboard>=2.9.1->pytorch-lightning) (4.2.2)\n",
      "Requirement already satisfied: rsa<5,>=3.1.4 in c:\\users\\tranl\\miniconda3\\envs\\pytorch\\lib\\site-packages (from google-auth<3,>=1.6.3->tensorboard>=2.9.1->pytorch-lightning) (4.7.2)\n",
      "Requirement already satisfied: pyasn1-modules>=0.2.1 in c:\\users\\tranl\\miniconda3\\envs\\pytorch\\lib\\site-packages (from google-auth<3,>=1.6.3->tensorboard>=2.9.1->pytorch-lightning) (0.2.8)\n",
      "Requirement already satisfied: six>=1.9.0 in c:\\users\\tranl\\miniconda3\\envs\\pytorch\\lib\\site-packages (from google-auth<3,>=1.6.3->tensorboard>=2.9.1->pytorch-lightning) (1.16.0)\n",
      "Requirement already satisfied: requests-oauthlib>=0.7.0 in c:\\users\\tranl\\miniconda3\\envs\\pytorch\\lib\\site-packages (from google-auth-oauthlib<0.5,>=0.4.1->tensorboard>=2.9.1->pytorch-lightning) (1.3.1)\n",
      "Requirement already satisfied: pyasn1<0.5.0,>=0.4.6 in c:\\users\\tranl\\miniconda3\\envs\\pytorch\\lib\\site-packages (from pyasn1-modules>=0.2.1->google-auth<3,>=1.6.3->tensorboard>=2.9.1->pytorch-lightning) (0.4.8)\n",
      "Requirement already satisfied: certifi>=2017.4.17 in c:\\users\\tranl\\miniconda3\\envs\\pytorch\\lib\\site-packages (from requests->fsspec[http]!=2021.06.0,>=2021.05.0->pytorch-lightning) (2022.5.18.1)\n",
      "Requirement already satisfied: charset-normalizer~=2.0.0 in c:\\users\\tranl\\miniconda3\\envs\\pytorch\\lib\\site-packages (from requests->fsspec[http]!=2021.06.0,>=2021.05.0->pytorch-lightning) (2.0.4)\n",
      "Requirement already satisfied: urllib3<1.27,>=1.21.1 in c:\\users\\tranl\\miniconda3\\envs\\pytorch\\lib\\site-packages (from requests->fsspec[http]!=2021.06.0,>=2021.05.0->pytorch-lightning) (1.26.9)\n",
      "Requirement already satisfied: idna<4,>=2.5 in c:\\users\\tranl\\miniconda3\\envs\\pytorch\\lib\\site-packages (from requests->fsspec[http]!=2021.06.0,>=2021.05.0->pytorch-lightning) (3.3)\n",
      "Requirement already satisfied: oauthlib>=3.0.0 in c:\\users\\tranl\\miniconda3\\envs\\pytorch\\lib\\site-packages (from requests-oauthlib>=0.7.0->google-auth-oauthlib<0.5,>=0.4.1->tensorboard>=2.9.1->pytorch-lightning) (3.2.0)\n",
      "Requirement already satisfied: colorama in c:\\users\\tranl\\miniconda3\\envs\\pytorch\\lib\\site-packages (from tqdm>=4.57.0->pytorch-lightning) (0.4.4)\n",
      "Requirement already satisfied: attrs>=17.3.0 in c:\\users\\tranl\\miniconda3\\envs\\pytorch\\lib\\site-packages (from aiohttp->fsspec[http]!=2021.06.0,>=2021.05.0->pytorch-lightning) (21.4.0)\n",
      "Requirement already satisfied: yarl<2.0,>=1.0 in c:\\users\\tranl\\miniconda3\\envs\\pytorch\\lib\\site-packages (from aiohttp->fsspec[http]!=2021.06.0,>=2021.05.0->pytorch-lightning) (1.6.3)\n",
      "Requirement already satisfied: aiosignal>=1.1.2 in c:\\users\\tranl\\miniconda3\\envs\\pytorch\\lib\\site-packages (from aiohttp->fsspec[http]!=2021.06.0,>=2021.05.0->pytorch-lightning) (1.2.0)\n",
      "Requirement already satisfied: multidict<7.0,>=4.5 in c:\\users\\tranl\\miniconda3\\envs\\pytorch\\lib\\site-packages (from aiohttp->fsspec[http]!=2021.06.0,>=2021.05.0->pytorch-lightning) (5.1.0)\n",
      "Requirement already satisfied: frozenlist>=1.1.1 in c:\\users\\tranl\\miniconda3\\envs\\pytorch\\lib\\site-packages (from aiohttp->fsspec[http]!=2021.06.0,>=2021.05.0->pytorch-lightning) (1.2.0)\n",
      "Requirement already satisfied: async-timeout<5.0,>=4.0.0a3 in c:\\users\\tranl\\miniconda3\\envs\\pytorch\\lib\\site-packages (from aiohttp->fsspec[http]!=2021.06.0,>=2021.05.0->pytorch-lightning) (4.0.1)\n",
      "Installing collected packages: torchmetrics, pyDeprecate, pytorch-lightning\n",
      "Successfully installed pyDeprecate-0.3.2 pytorch-lightning-1.7.0 torchmetrics-0.9.3\n",
      "Note: you may need to restart the kernel to use updated packages.\n"
     ]
    }
   ],
   "source": [
    "pip install pytorch-lightning"
   ]
  },
  {
   "cell_type": "markdown",
   "metadata": {},
   "source": [
    "# Reference\n",
    "\n",
    "- [Pytorch lightning main page](https://pytorch-lightning.readthedocs.io/en/latest/)\n"
   ]
  }
 ],
 "metadata": {
  "kernelspec": {
   "display_name": "Python 3.9.12 ('pytorch')",
   "language": "python",
   "name": "python3"
  },
  "language_info": {
   "codemirror_mode": {
    "name": "ipython",
    "version": 3
   },
   "file_extension": ".py",
   "mimetype": "text/x-python",
   "name": "python",
   "nbconvert_exporter": "python",
   "pygments_lexer": "ipython3",
   "version": "3.9.12"
  },
  "orig_nbformat": 4,
  "vscode": {
   "interpreter": {
    "hash": "1a31d49ef82b65dcda19c5ad9b4a3838eae29e34a7ddc1c731139114b7ab7ba9"
   }
  }
 },
 "nbformat": 4,
 "nbformat_minor": 2
}
